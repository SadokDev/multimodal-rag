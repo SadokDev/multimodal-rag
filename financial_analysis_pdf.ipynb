{
 "cells": [
  {
   "cell_type": "markdown",
   "id": "619179bf",
   "metadata": {},
   "source": [
    "# Multimodal Financial Document Analysis from PDFs"
   ]
  },
  {
   "cell_type": "markdown",
   "id": "63ab9cf5",
   "metadata": {},
   "source": [
    "Application of the retrieval-augmented generation (RAG) method in processing financial information from company's PDF document. The steps involve extracting critical data such as text, tables and graphs from a PDF's file and storing them in a vector database like FAISS. Multiple tools will be used like Unstructured.io for text and table extraction from PDF, Cohere models for graph information extraction from images, and LlamaIndex for creating an agent with retrieval capabilities."
   ]
  },
  {
   "cell_type": "markdown",
   "id": "984af37a",
   "metadata": {},
   "source": [
    "### Extracting Data"
   ]
  },
  {
   "cell_type": "code",
   "execution_count": null,
   "id": "c9797e30",
   "metadata": {},
   "outputs": [],
   "source": [
    "!wget https://digitalassets.tesla.com/tesla-contents/image/upload/IR/TSLA-Q3-2023-Update-3.pdf"
   ]
  },
  {
   "cell_type": "markdown",
   "id": "b0d8a623",
   "metadata": {},
   "source": [
    "The unstructured package is a proficient tool for extracting information from pdf files. It relies on two key tools, poppler and tesseract, essentail for rendering PDF documents. They have to be installed using apt-get(Linux) or brew(MacOs), in addition to the necessary packages.\n",
    "\n",
    "apt-get -qq install poppler-utils <br>\n",
    "apt-get -qq install tesseract-ocr"
   ]
  },
  {
   "cell_type": "markdown",
   "id": "cc914401",
   "metadata": {},
   "source": [
    "I recommend using [Unstructured Quickstart](https://docs.unstructured.io/open-source/introduction/quick-start) to a clean install of the Unstructured package. <br>\n",
    "Please note that I am using the [UV project manager](https://docs.astral.sh/uv/) instead of pip and the latest python version at this time which is 3.13.3.<br>\n",
    "Terminal (create virtual environment): <br>\n",
    "uv venv --python 3.13 <br>\n",
    "source .venv/bin/activate <br>\n",
    "uv pip install ipykernel\n"
   ]
  },
  {
   "cell_type": "code",
   "execution_count": null,
   "id": "8e59683a",
   "metadata": {},
   "outputs": [],
   "source": [
    "!uv pip install \"unstructured[all-docs]\""
   ]
  },
  {
   "cell_type": "markdown",
   "id": "eb96f2d9",
   "metadata": {},
   "source": [
    "### Text and Tables"
   ]
  },
  {
   "cell_type": "markdown",
   "id": "aa53ffbb",
   "metadata": {},
   "source": [
    "Use partition_pdf function to extract text and table data from the PDF and divide it into multiple chunks. The size of these chunks can be customized based on the number of characters."
   ]
  },
  {
   "cell_type": "code",
   "execution_count": null,
   "id": "3e32ea98",
   "metadata": {},
   "outputs": [],
   "source": [
    "from unstructured.partition.pdf import partition_pdf\n",
    "\n",
    "raw_pdf_elements = partition_pdf(\n",
    "        filename=\"./TSLA-Q3-2023-Update-3.pdf\",\n",
    "        # Use layout model (YOLOX) to get bounding boxes (for tables) and find titles\n",
    "        # Titles are any sub-section of the document\n",
    "        infer_table_structure=True,\n",
    "        # Post processing to aggregate text once we have the title\n",
    "        chunking_strategy=\"by_title\",\n",
    "        # Chunking params to aggregate text blocks\n",
    "        # Attempt to create a new chunk 3800 chars\n",
    "        # Attempt to keep chunks > 2000 chars\n",
    "        # Hard max on chunks\n",
    "        max_characters=4000,\n",
    "        new_after_n_chars=3800,\n",
    "        combine_text_under_n_chars=2000\n",
    "    )"
   ]
  },
  {
   "cell_type": "markdown",
   "id": "06ef14b2",
   "metadata": {},
   "source": [
    "The above code recognizes and extracts various PDF elements, which can be divided into CompositeElements (text) and Tables."
   ]
  },
  {
   "cell_type": "markdown",
   "id": "38a4feaa",
   "metadata": {},
   "source": [
    "The Pydantic package is used to create a new data structure containing information about each element, such as its type and text. The code below lopps through all extracted elements, storing them in a list where each item is an instance of the Element type. I will also use the pickle library to store the extracted elements, they can be loaded later. "
   ]
  },
  {
   "cell_type": "code",
   "execution_count": 5,
   "id": "273464ee",
   "metadata": {},
   "outputs": [],
   "source": [
    "from pydantic import BaseModel\n",
    "from typing import Any\n",
    "import pickle\n",
    "\n",
    "# Define data structure\n",
    "class Element(BaseModel):\n",
    "    type: str\n",
    "    text: Any\n",
    "\n",
    "# Categorize by type\n",
    "categorized_elements = []\n",
    "for element in raw_pdf_elements:\n",
    "    if \"unstructured.documents.elements.Table\" in str(type(element)):\n",
    "        categorized_elements.append(Element(type=\"table\", text=str(element)))\n",
    "    elif \"unstructured.documents.elements.CompositeElement\" in str(type(element)):\n",
    "        categorized_elements.append(Element(type=\"text\", text=str(element)))\n",
    "\n",
    "\n",
    "with open('categorized_elements.pkl', 'wb') as handle:\n",
    "    pickle.dump(categorized_elements, handle)"
   ]
  },
  {
   "cell_type": "markdown",
   "id": "38b92607",
   "metadata": {},
   "source": [
    "### Graphs"
   ]
  },
  {
   "cell_type": "markdown",
   "id": "90b5195c",
   "metadata": {},
   "source": [
    "The next step is to extract information from graphs and charts by separating images from the document and analyzing them using the c4ai-aya-vision-8b model developed by Cohere. In practice, each PDF page have to be converted into images and passed to the model individually if it identifies any graph. An empty array will be returned in cases where no graphs are found.<br>\n",
    "Converting the PDF into images necessitates installing the pdf2image package."
   ]
  },
  {
   "cell_type": "code",
   "execution_count": null,
   "id": "233a3f3b",
   "metadata": {},
   "outputs": [],
   "source": [
    "!uv pip install pdf2image"
   ]
  },
  {
   "cell_type": "code",
   "execution_count": 7,
   "id": "9a2f000a",
   "metadata": {},
   "outputs": [],
   "source": [
    "import os\n",
    "from pdf2image import convert_from_path\n",
    "\n",
    "\n",
    "os.mkdir(\"./pages\")\n",
    "convertor = convert_from_path('./TSLA-Q3-2023-Update-3.pdf')\n",
    "\n",
    "for idx, image in enumerate( convertor ):\n",
    "    image.save(f\"./pages/page-{idx}.png\")\n",
    "\n",
    "pages_png = [file for file in os.listdir(\"./pages\") if file.endswith('.png')]"
   ]
  },
  {
   "cell_type": "markdown",
   "id": "3d5624a5",
   "metadata": {},
   "source": [
    "The Cohere API Key have to be stored in .env file. Before submitting image files into the model API, some functions have to be defined : the images have to be resized to fit the Cohere API limitations, a function to convert images into base64 format to make them compatible with the API and a function to send requests to the model using a payload variable for configurations, including specifying the model name, setting the maximum token limit and defining **prompts**. These prompts instrcut the model to analyze and describe graphs and generate responses in JSON format."
   ]
  },
  {
   "cell_type": "code",
   "execution_count": null,
   "id": "ef50d0d4",
   "metadata": {},
   "outputs": [],
   "source": [
    "!uv pip install python-dotenv"
   ]
  },
  {
   "cell_type": "code",
   "execution_count": 10,
   "id": "c8d146ee",
   "metadata": {},
   "outputs": [],
   "source": [
    "from PIL import Image\n",
    "import os\n",
    "\n",
    "def resize_and_compress_png(input_path, output_path, max_size_bytes=5242880, max_dim=1024):\n",
    "    \"\"\"\n",
    "    Resize and compress the PNG image to fit within the size limit.\n",
    "    \n",
    "    Parameters:\n",
    "    - input_path (str): Path to the input PNG image.\n",
    "    - output_path (str): Path to save the processed PNG image.\n",
    "    - max_size_bytes (int): Maximum allowed file size in bytes (default 5MB).\n",
    "    - max_dim (int): Maximum dimension (width or height) for resizing.\n",
    "    \"\"\"\n",
    "    \n",
    "    # Open the PNG image using Pillow\n",
    "    with Image.open(input_path) as img:\n",
    "        # Check current image size\n",
    "        current_size = os.path.getsize(input_path)\n",
    "        print(f\"Original image size: {current_size / 1024:.2f} KB\")\n",
    "        \n",
    "        # If the image size exceeds the max allowed size, we need to resize and compress\n",
    "        if current_size > max_size_bytes:\n",
    "            # Resize the image while maintaining aspect ratio\n",
    "            img.thumbnail((max_dim, max_dim))\n",
    "            print(f\"Resized image to: {img.size[0]}x{img.size[1]} pixels\")\n",
    "            \n",
    "            # Save the image in PNG format with compression (using PNG optimization)\n",
    "            img.save(output_path, format=\"PNG\", optimize=True)\n",
    "            \n",
    "            # Check the file size after saving\n",
    "            final_size = os.path.getsize(output_path)\n",
    "            print(f\"Processed image size: {final_size / 1024:.2f} KB\")\n",
    "            \n",
    "            # If still too large, further resize or optimize the PNG (e.g., reducing bit depth)\n",
    "            while final_size > max_size_bytes:\n",
    "                print(f\"Size is still too large, resizing further...\")\n",
    "                # Further reduce dimensions if needed\n",
    "                img = img.resize((img.size[0] // 2, img.size[1] // 2))\n",
    "                img.save(output_path, format=\"PNG\", optimize=True)\n",
    "                final_size = os.path.getsize(output_path)\n",
    "                print(f\"Processed image size: {final_size / 1024:.2f} KB\")\n",
    "                \n",
    "            print(f\"Final image size is within the limit: {final_size / 1024:.2f} KB\")\n",
    "        else:\n",
    "            # If the image is already within the limit, save it directly\n",
    "            img.save(output_path, format=\"PNG\")\n",
    "            print(f\"Image size is already within the limit, saved as is: {current_size / 1024:.2f} KB\")"
   ]
  },
  {
   "cell_type": "code",
   "execution_count": null,
   "id": "5506dc9c",
   "metadata": {},
   "outputs": [],
   "source": [
    "pages_resize = [file for file in os.listdir(\"./pages\") if file.endswith('.png')]\n",
    "\n",
    "for page in pages_resize:\n",
    "    resize_and_compress_png(f\"./pages/{page}\",f\"./pages/{page}\" )"
   ]
  },
  {
   "cell_type": "code",
   "execution_count": 12,
   "id": "c9ed42b5",
   "metadata": {},
   "outputs": [],
   "source": [
    "import base64\n",
    "def encode_img(image_path):\n",
    "    with open(image_path, \"rb\") as img_file:\n",
    "        base64_image_url = f\"data:image/jpeg;base64,{base64.b64encode(img_file.read()).decode('utf-8')}\"\n",
    "        return base64_image_url"
   ]
  },
  {
   "cell_type": "code",
   "execution_count": 13,
   "id": "6bc7f5cb",
   "metadata": {},
   "outputs": [],
   "source": [
    "import requests\n",
    "from dotenv import load_dotenv\n",
    "\n",
    "load_dotenv(\".env\")\n",
    "\n",
    "def treat_img(base64_image_url):\n",
    "    tmp_payload = {\n",
    "    \"model\": \"c4ai-aya-vision-8b\",\n",
    "    \"temperature\": 0.3,\n",
    "    \"max_tokens\": 1000,\n",
    "    \"messages\": [\n",
    "            {\n",
    "                \"role\": \"user\",\n",
    "                \"content\": [\n",
    "                    {\"type\": \"text\", \"text\": \"You are an assistant that find charts, graphs, or diagrams from an image and summarize their information. There could be multiple diagrams in one image, so explain each one of them separately. ignore tables.\"},\n",
    "                    {\n",
    "                        \"type\": \"image_url\",\n",
    "                        \"image_url\": {\"url\": base64_image_url},\n",
    "                    },\n",
    "                ],\n",
    "            },\n",
    "            {\n",
    "                \"role\": \"user\",\n",
    "                \"content\": '''The response must be a JSON in following format {\"graphs\": [<chart_1>, <chart_2>, <chart_3>]} where <chart_1>, <chart_2>, and <chart_3> placeholders that describe each graph found in the image. Do not append or add anything other than the JSON format response.'''\n",
    "            },\n",
    "            {\n",
    "                \"role\": \"user\",\n",
    "                \"content\": '''If could not find a graph in the image, return an empty list JSON as follows: {\"graphs\": []}. Do not append or add anything other than the JSON format response. Dont use coding \"```\" marks or the word json.'''\n",
    "            },\n",
    "                        {\n",
    "                \"role\": \"user\",\n",
    "                \"content\": \"\"\"Look at the attached image and describe all the graphs inside it in JSON format. ignore tables and be concise.\"\"\"\n",
    "            }\n",
    "    ]\n",
    "}\n",
    "\n",
    "    headers ={\n",
    "    \"Content-type\" : \"application/json\",\n",
    "    \"Authorization\" : \"Bearer \" + str(os.environ[\"COHERE_API_KEY\"])\n",
    "}\n",
    "    url=\"https://api.cohere.com/v2/chat\"\n",
    "    response = requests.post(url, headers=headers, json=tmp_payload)\n",
    "\n",
    "    return response.json()"
   ]
  },
  {
   "cell_type": "code",
   "execution_count": 14,
   "id": "89fe0b38",
   "metadata": {},
   "outputs": [
    {
     "name": "stderr",
     "output_type": "stream",
     "text": [
      "1it [00:06,  6.07s/it]"
     ]
    },
    {
     "name": "stdout",
     "output_type": "stream",
     "text": [
      "['Page: page-15.png\\nlabel: Vehicle Deliveries\\ndescription: Millions of units delivered over time', 'Page: page-15.png\\nlabel: Operating Cash Flow\\ndescription: Cash generated from operations over time', 'Page: page-15.png\\nlabel: Free Cash Flow\\ndescription: Cash generated after expenses over time', 'Page: page-15.png\\nlabel: Net Income\\ndescription: Profit or loss over time', 'Page: page-15.png\\nlabel: Adjusted EBITDA\\ndescription: Earnings before interest, taxes, depreciation, and amortization over time']\n"
     ]
    },
    {
     "name": "stderr",
     "output_type": "stream",
     "text": [
      "2it [00:19, 10.55s/it]"
     ]
    },
    {
     "name": "stdout",
     "output_type": "stream",
     "text": [
      "No graphs found.\n"
     ]
    },
    {
     "name": "stderr",
     "output_type": "stream",
     "text": [
      "3it [00:25,  8.44s/it]"
     ]
    },
    {
     "name": "stdout",
     "output_type": "stream",
     "text": [
      "['Page: page-16.png\\ntitle: Vehicle Deliveries\\ndescription: Blue bars represent vehicle deliveries in millions of units over time, showing a steady increase from Q1 2020 to Q4 2022.', 'Page: page-16.png\\ntitle: Operating Cash Flow\\ndescription: Blue bars show operating cash flow in billions of dollars, with fluctuations throughout the period, while red bars indicate free cash flow, also fluctuating.', 'Page: page-16.png\\ntitle: Net Income and Adjusted EBITDA\\ndescription: Red bars represent net income in billions of dollars, and blue bars show adjusted EBITDA, both increasing over time with some seasonal variations.']\n"
     ]
    },
    {
     "name": "stderr",
     "output_type": "stream",
     "text": [
      "4it [00:32,  7.66s/it]"
     ]
    },
    {
     "name": "stdout",
     "output_type": "stream",
     "text": [
      "[\"Page: page-17.png\\ntitle: Revenue Growth\\ndescription: Red line showing Tesla's revenue growth over 12 months, compared to Q3 2019. Blue line represents the S&P 500 index.\", \"Page: page-17.png\\ntitle: Operating Margin\\ndescription: Red line shows Tesla's operating margin percentage over 12 months. Blue line represents the S&P 500 index.\"]\n"
     ]
    },
    {
     "name": "stderr",
     "output_type": "stream",
     "text": [
      "5it [00:43,  8.96s/it]"
     ]
    },
    {
     "name": "stdout",
     "output_type": "stream",
     "text": [
      "No graphs found.\n"
     ]
    },
    {
     "name": "stderr",
     "output_type": "stream",
     "text": [
      "6it [00:53,  9.33s/it]"
     ]
    },
    {
     "name": "stdout",
     "output_type": "stream",
     "text": [
      "No graphs found.\n"
     ]
    },
    {
     "name": "stderr",
     "output_type": "stream",
     "text": [
      "7it [00:55,  6.91s/it]"
     ]
    },
    {
     "name": "stdout",
     "output_type": "stream",
     "text": [
      "['A line graph showing a trend over time with labeled axes.', 'A bar chart comparing different categories with labeled values.', 'A pie chart illustrating proportions with labeled segments.']\n"
     ]
    },
    {
     "name": "stderr",
     "output_type": "stream",
     "text": [
      "8it [01:13, 10.61s/it]"
     ]
    },
    {
     "name": "stdout",
     "output_type": "stream",
     "text": [
      "['Page: page-11.png\\ntype: map\\ndescription: Color-coded map of the United States showing state-level subsidies for Tesla Model Y.', 'Page: page-11.png\\ntype: text\\ndescription: Starting price of Tesla Model Y inclusive of national and state-level subsidies.']\n"
     ]
    },
    {
     "name": "stderr",
     "output_type": "stream",
     "text": [
      "9it [01:15,  7.81s/it]"
     ]
    },
    {
     "name": "stdout",
     "output_type": "stream",
     "text": [
      "No graphs found.\n"
     ]
    },
    {
     "name": "stderr",
     "output_type": "stream",
     "text": [
      "10it [01:18,  6.35s/it]"
     ]
    },
    {
     "name": "stdout",
     "output_type": "stream",
     "text": [
      "No graphs found.\n"
     ]
    },
    {
     "name": "stderr",
     "output_type": "stream",
     "text": [
      "11it [01:27,  7.07s/it]"
     ]
    },
    {
     "name": "stdout",
     "output_type": "stream",
     "text": [
      "['Bar chart showing quarterly revenues and gross profit from 2020 to 2023, with a focus on Q3 2022 and Q4 2022.', 'Line chart depicting operating expenses, income from operations, and operating margin over the same period.', 'Scatter plot comparing adjusted EBITDA and adjusted EBITDA margins with a focus on Q3 2022 and Q4 2022.', 'Bar chart illustrating net cash provided by operating activities, capital expenditures, and free cash flow from 2020 to 2023.']\n"
     ]
    },
    {
     "name": "stderr",
     "output_type": "stream",
     "text": [
      "12it [01:34,  7.12s/it]"
     ]
    },
    {
     "name": "stdout",
     "output_type": "stream",
     "text": [
      "No graphs found.\n"
     ]
    },
    {
     "name": "stderr",
     "output_type": "stream",
     "text": [
      "13it [01:47,  8.94s/it]"
     ]
    },
    {
     "name": "stdout",
     "output_type": "stream",
     "text": [
      "[\"Page: page-6.png\\ndescription: Vehicle capacity across regions, showing production and pilot production status.\\nregions: ['California', 'Shanghai', 'Berlin-Brandenburg', 'Texas', 'Nevada', 'Various']\\nmodels: ['Model S', 'Model X', 'Model 3', 'Model Y', 'Cybertruck', 'Tesla Semi', 'Next Gen Platform']\\ncapacity: in thousands\\nstatus: ['Production', 'Pilot production', 'In development']\", \"Page: page-6.png\\ndescription: Vehicle production capacity over time, with different lines for US, Canada, Europe, and China.\\nregions: ['US', 'Canada', 'Europe', 'China']\\nlines: ['Model S', 'Model X', 'Model 3', 'Model Y', 'Cybertruck', 'Tesla Semi']\\ncapacity: in thousands\\nproduction_rates: ['4%', '3%', '2%', '1%']\", \"Page: page-6.png\\ndescription: Market share of Tesla vehicles by region over time.\\nregions: ['US', 'Canada', 'Europe', 'China']\\nlines: ['Model S', 'Model X', 'Model 3', 'Model Y', 'Cybertruck', 'Tesla Semi']\\nmarket_share: in percentage\\ntime: Q3 2022 to Q3 2023\"]\n"
     ]
    },
    {
     "name": "stderr",
     "output_type": "stream",
     "text": [
      "14it [01:55,  8.62s/it]"
     ]
    },
    {
     "name": "stdout",
     "output_type": "stream",
     "text": [
      "['Page: page-7.png\\ntype: bar\\ndescription: Cumulative miles driven with FSD Beta, showing a steady increase over time.', 'Page: page-7.png\\ntype: line\\ndescription: Cost of goods sold per vehicle, indicating a decrease over time.']\n"
     ]
    },
    {
     "name": "stderr",
     "output_type": "stream",
     "text": [
      "15it [02:04,  8.67s/it]"
     ]
    },
    {
     "name": "stdout",
     "output_type": "stream",
     "text": [
      "['Page: page-5.png\\ntype: bar\\ndescription: Comparison of Model S, Model 3, and Total Production over quarters', 'Page: page-5.png\\ntype: bar\\ndescription: Comparison of Model S and Model 3 Deliveries over quarters', 'Page: page-5.png\\ntype: line\\ndescription: Comparison of Total Deliveries and Operating Lease accounting over quarters', 'Page: page-5.png\\ntype: bar\\ndescription: Comparison of Vehicle Count and Operating Lease accounting over quarters', 'Page: page-5.png\\ntype: bar\\ndescription: Comparison of Solar Deployed, Storage Deployed, and Tesla Locations over quarters', 'Page: page-5.png\\ntype: bar\\ndescription: Comparison of Mobile Service Fleet, Supercharger Stations, and Supercharger Connectors over quarters']\n"
     ]
    },
    {
     "name": "stderr",
     "output_type": "stream",
     "text": [
      "16it [02:09,  7.67s/it]"
     ]
    },
    {
     "name": "stdout",
     "output_type": "stream",
     "text": [
      "No graphs found.\n"
     ]
    },
    {
     "name": "stderr",
     "output_type": "stream",
     "text": [
      "17it [02:13,  6.44s/it]"
     ]
    },
    {
     "name": "stdout",
     "output_type": "stream",
     "text": [
      "No graphs found.\n"
     ]
    },
    {
     "name": "stderr",
     "output_type": "stream",
     "text": [
      "18it [02:21,  6.88s/it]"
     ]
    },
    {
     "name": "stdout",
     "output_type": "stream",
     "text": [
      "['Page: page-8.png\\ntype: bar\\ndescription: Energy Storage deployments in GWh, showing growth from Q1 2017 to Q4 2023.', 'Page: page-8.png\\ntype: line\\ndescription: Solar deployments trend over time, influenced by interest rates and net metering termination in California.', 'Page: page-8.png\\ntype: bar\\ndescription: Services and other business gross profit in millions of dollars, from Q1 2017 to Q4 2023.']\n"
     ]
    },
    {
     "name": "stderr",
     "output_type": "stream",
     "text": [
      "19it [02:32,  8.32s/it]"
     ]
    },
    {
     "name": "stdout",
     "output_type": "stream",
     "text": [
      "['Page: page-20.png\\ntype: bar\\ndescription: Comparison of monthly revenue for Q3 and Q4 of 2022, showing a significant increase in revenue from September to December.', 'Page: page-20.png\\ntype: line\\ndescription: Trend of total assets over time, indicating a steady increase from September 2022 to June 2023.', 'Page: page-20.png\\ntype: pie\\ndescription: Breakdown of total liabilities into different categories, including current and long-term liabilities.']\n"
     ]
    },
    {
     "name": "stderr",
     "output_type": "stream",
     "text": [
      "20it [02:41,  8.45s/it]"
     ]
    },
    {
     "name": "stdout",
     "output_type": "stream",
     "text": [
      "No graphs found.\n"
     ]
    },
    {
     "name": "stderr",
     "output_type": "stream",
     "text": [
      "21it [02:51,  8.89s/it]"
     ]
    },
    {
     "name": "stdout",
     "output_type": "stream",
     "text": [
      "['Page: page-23.png\\ntype: bar\\ndescription: Comparison of GAAP and Non-GAAP financial metrics over time, including net income, depreciation, and adjusted EBITDA.', 'Page: page-23.png\\ntype: line\\ndescription: Quarterly trends of net cash provided by operating activities and free cash flow under both GAAP and Non-GAAP.']\n"
     ]
    },
    {
     "name": "stderr",
     "output_type": "stream",
     "text": [
      "22it [02:59,  8.57s/it]"
     ]
    },
    {
     "name": "stdout",
     "output_type": "stream",
     "text": [
      "['Page: page-22.png\\ntype: bar\\ndescription: Quarterly revenue reconciliation between GAAP and non-GAAP, showing the difference in earnings per share.', 'Page: page-22.png\\ntype: pie\\ndescription: Breakdown of stock-based compensation expense for both GAAP and non-GAAP calculations.', 'Page: page-22.png\\ntype: line\\ndescription: Comparison of total revenues and adjusted EBITDA margin between GAAP and non-GAAP metrics over time.']\n"
     ]
    },
    {
     "name": "stderr",
     "output_type": "stream",
     "text": [
      "23it [03:01,  6.49s/it]"
     ]
    },
    {
     "name": "stdout",
     "output_type": "stream",
     "text": [
      "No graphs found.\n",
      "No graphs found.\n"
     ]
    },
    {
     "name": "stderr",
     "output_type": "stream",
     "text": [
      "24it [03:11,  7.73s/it]"
     ]
    },
    {
     "name": "stdout",
     "output_type": "stream",
     "text": [
      "['A bar chart showing financial statements with labels for income, expenses, and net income over time.', \"A line graph illustrating the company's revenue growth over several years.\", \"A pie chart depicting the company's expenses across different categories.\"]\n"
     ]
    },
    {
     "name": "stderr",
     "output_type": "stream",
     "text": [
      "25it [03:14,  6.23s/it]"
     ]
    },
    {
     "name": "stdout",
     "output_type": "stream",
     "text": [
      "[\"A line graph showing Tesla's stock price over time with a logarithmic scale on the y-axis.\", \"A bar chart comparing Tesla's revenue and expenses for different quarters.\", \"A pie chart illustrating Tesla's revenue distribution across various product lines.\", \"A scatter plot depicting the relationship between Tesla's stock price and market capitalization.\", \"A heatmap showing Tesla's financial performance across different metrics and time periods.\"]\n"
     ]
    },
    {
     "name": "stderr",
     "output_type": "stream",
     "text": [
      "26it [03:31,  8.15s/it]\n"
     ]
    }
   ],
   "source": [
    "import json\n",
    "from tqdm import tqdm\n",
    "import pickle\n",
    "\n",
    "graphs_description = []\n",
    "for idx, page in tqdm(enumerate(pages_png)):\n",
    "    base64_image = encode_img(f\"./pages/{page}\")\n",
    "    rs = treat_img(base64_image)\n",
    "\n",
    "    raw_text = rs['message']['content'][0]['text']\n",
    "    graph_data = json.loads(rs['message']['content'][0]['text'])['graphs']\n",
    "\n",
    "    if not graph_data:\n",
    "        print(\"No graphs found.\")\n",
    "    else:\n",
    "        desc = [\n",
    "            f\"Page: {page}\\n\" + '\\n'.join(f\"{key}: {item[key]}\" for key in item.keys())\n",
    "            if isinstance(item, dict)\n",
    "            else item\n",
    "            for item in graph_data\n",
    "        ]\n",
    "        print(desc)\n",
    "\n",
    "    graphs_description.extend(desc)\n",
    "\n",
    "    graphs_description = \\\n",
    "    [Element(type=\"graph\", text=str(item)) for item in graphs_description]\n",
    "\n",
    "with open('graphs_description.pkl', 'wb') as handle:\n",
    "    pickle.dump(graphs_description, handle)"
   ]
  },
  {
   "cell_type": "markdown",
   "id": "a50a8166",
   "metadata": {},
   "source": [
    "### Store on FAISS Vector Database"
   ]
  },
  {
   "cell_type": "markdown",
   "id": "6fafd29f",
   "metadata": {},
   "source": [
    "Tha data preparation phase is complete and the vital information was extracted from the PDF. I will use in this section the FAISS vector database to store the collected information and their embeddings.<br>\n",
    "Faiss is a library for efficient similarity search and clustering of dense vectors. It contains algorithms that search in sets of vectors of any size, up to ones that possibly do not fit in RAM. It also contains supporting code for evaluation and parameter tuning."
   ]
  },
  {
   "cell_type": "code",
   "execution_count": 15,
   "id": "25201343",
   "metadata": {},
   "outputs": [
    {
     "name": "stdout",
     "output_type": "stream",
     "text": [
      "100\n"
     ]
    }
   ],
   "source": [
    "all_docs = categorized_elements + graphs_description\n",
    "print(len(all_docs))"
   ]
  },
  {
   "cell_type": "code",
   "execution_count": null,
   "id": "9a2ae082",
   "metadata": {},
   "outputs": [],
   "source": []
  }
 ],
 "metadata": {
  "kernelspec": {
   "display_name": ".venv",
   "language": "python",
   "name": "python3"
  },
  "language_info": {
   "codemirror_mode": {
    "name": "ipython",
    "version": 3
   },
   "file_extension": ".py",
   "mimetype": "text/x-python",
   "name": "python",
   "nbconvert_exporter": "python",
   "pygments_lexer": "ipython3",
   "version": "3.13.3"
  }
 },
 "nbformat": 4,
 "nbformat_minor": 5
}
