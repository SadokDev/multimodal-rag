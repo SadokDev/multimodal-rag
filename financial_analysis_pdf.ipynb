{
 "cells": [
  {
   "cell_type": "markdown",
   "id": "619179bf",
   "metadata": {},
   "source": [
    "# Multimodal Financial Document Analysis from PDFs"
   ]
  },
  {
   "cell_type": "markdown",
   "id": "63ab9cf5",
   "metadata": {},
   "source": [
    "Application of the retrieval-augmented generation (RAG) method in processing financial information from company's PDF document. The steps involve extracting critical data such as text, tables and graphs from a PDF's file and storing them in a vector database like FAISS. Multiple tools will be used like Unstructured.io for text and table extraction from PDF, Cohere models for graph information extraction from images, and LlamaIndex for creating an agent with retrieval capabilities."
   ]
  },
  {
   "cell_type": "markdown",
   "id": "984af37a",
   "metadata": {},
   "source": [
    "### Extracting Data"
   ]
  },
  {
   "cell_type": "code",
   "execution_count": null,
   "id": "c9797e30",
   "metadata": {},
   "outputs": [],
   "source": [
    "!wget https://digitalassets.tesla.com/tesla-contents/image/upload/IR/TSLA-Q3-2023-Update-3.pdf"
   ]
  },
  {
   "cell_type": "markdown",
   "id": "b0d8a623",
   "metadata": {},
   "source": [
    "The unstructured package is a proficient tool for extracting information from pdf files. It relies on two key tools, poppler and tesseract, essentail for rendering PDF documents. They have to be installed using apt-get(Linux) or brew(MacOs), in addition to the necessary packages.\n",
    "\n",
    "apt-get -qq install poppler-utils <br>\n",
    "apt-get -qq install tesseract-ocr"
   ]
  },
  {
   "cell_type": "markdown",
   "id": "cc914401",
   "metadata": {},
   "source": [
    "I recommend using [Unstructured Quickstart](https://docs.unstructured.io/open-source/introduction/quick-start) to a clean install of the Unstructured package. <br>\n",
    "Please note that I am using the [UV project manager](https://docs.astral.sh/uv/) instead of pip and the latest python version at this time which is 3.13.3.<br>\n",
    "Terminal (create virtual environment): <br>\n",
    "uv venv --python 3.13 <br>\n",
    "source .venv/bin/activate <br>\n",
    "uv pip install ipykernel\n"
   ]
  },
  {
   "cell_type": "code",
   "execution_count": null,
   "id": "8e59683a",
   "metadata": {},
   "outputs": [],
   "source": [
    "!uv pip install \"unstructured[all-docs]\""
   ]
  },
  {
   "cell_type": "markdown",
   "id": "eb96f2d9",
   "metadata": {},
   "source": [
    "### Text and Tables"
   ]
  },
  {
   "cell_type": "markdown",
   "id": "aa53ffbb",
   "metadata": {},
   "source": [
    "Use partition_pdf function to extract text and table data from the PDF and divide it into multiple chunks. The size of these chunks can be customized based on the number of characters."
   ]
  },
  {
   "cell_type": "code",
   "execution_count": null,
   "id": "3e32ea98",
   "metadata": {},
   "outputs": [],
   "source": [
    "from unstructured.partition.pdf import partition_pdf\n",
    "\n",
    "raw_pdf_elements = partition_pdf(\n",
    "        filename=\"./TSLA-Q3-2023-Update-3.pdf\",\n",
    "        # Use layout model (YOLOX) to get bounding boxes (for tables) and find titles\n",
    "        # Titles are any sub-section of the document\n",
    "        infer_table_structure=True,\n",
    "        # Post processing to aggregate text once we have the title\n",
    "        chunking_strategy=\"by_title\",\n",
    "        # Chunking params to aggregate text blocks\n",
    "        # Attempt to create a new chunk 3800 chars\n",
    "        # Attempt to keep chunks > 2000 chars\n",
    "        # Hard max on chunks\n",
    "        max_characters=4000,\n",
    "        new_after_n_chars=3800,\n",
    "        combine_text_under_n_chars=2000\n",
    "    )"
   ]
  },
  {
   "cell_type": "markdown",
   "id": "06ef14b2",
   "metadata": {},
   "source": [
    "The above code recognizes and extracts various PDF elements, which can be divided into CompositeElements (text) and Tables."
   ]
  },
  {
   "cell_type": "markdown",
   "id": "38a4feaa",
   "metadata": {},
   "source": []
  }
 ],
 "metadata": {
  "kernelspec": {
   "display_name": ".venv",
   "language": "python",
   "name": "python3"
  },
  "language_info": {
   "codemirror_mode": {
    "name": "ipython",
    "version": 3
   },
   "file_extension": ".py",
   "mimetype": "text/x-python",
   "name": "python",
   "nbconvert_exporter": "python",
   "pygments_lexer": "ipython3",
   "version": "3.13.3"
  }
 },
 "nbformat": 4,
 "nbformat_minor": 5
}
