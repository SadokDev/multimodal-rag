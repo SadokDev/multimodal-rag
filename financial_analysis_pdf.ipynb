{
 "cells": [
  {
   "cell_type": "markdown",
   "id": "619179bf",
   "metadata": {},
   "source": [
    "# Multimodal Financial Document Analysis from PDFs"
   ]
  },
  {
   "cell_type": "markdown",
   "id": "63ab9cf5",
   "metadata": {},
   "source": [
    "Application of the retrieval-augmented generation (RAG) method in processing financial information from company's PDF document. The steps involve extracting critical data such as text, tables and graphs from a PDF's file and storing them in a vector database like FAISS. Multiple tools will be used like Unstructured.io for text and table extraction from PDF, Cohere models for graph information extraction from images, and LlamaIndex for creating an agent with retrieval capabilities."
   ]
  },
  {
   "cell_type": "markdown",
   "id": "984af37a",
   "metadata": {},
   "source": [
    "### Extracting Data"
   ]
  },
  {
   "cell_type": "code",
   "execution_count": null,
   "id": "c9797e30",
   "metadata": {},
   "outputs": [],
   "source": [
    "!wget https://digitalassets.tesla.com/tesla-contents/image/upload/IR/TSLA-Q3-2023-Update-3.pdf"
   ]
  },
  {
   "cell_type": "markdown",
   "id": "b0d8a623",
   "metadata": {},
   "source": [
    "The unstructured package is a proficient tool for extracting information from pdf files. It relies on two key tools, poppler and tesseract, essentail for rendering PDF documents. They have to be installed using apt-get(Linux) or brew(MacOs), in addition to the necessary packages.\n",
    "\n",
    "apt-get -qq install poppler-utils <br>\n",
    "apt-get -qq install tesseract-ocr"
   ]
  },
  {
   "cell_type": "markdown",
   "id": "71c067af",
   "metadata": {},
   "source": []
  }
 ],
 "metadata": {
  "kernelspec": {
   "display_name": ".venv",
   "language": "python",
   "name": "python3"
  },
  "language_info": {
   "codemirror_mode": {
    "name": "ipython",
    "version": 3
   },
   "file_extension": ".py",
   "mimetype": "text/x-python",
   "name": "python",
   "nbconvert_exporter": "python",
   "pygments_lexer": "ipython3",
   "version": "3.13.3"
  }
 },
 "nbformat": 4,
 "nbformat_minor": 5
}
